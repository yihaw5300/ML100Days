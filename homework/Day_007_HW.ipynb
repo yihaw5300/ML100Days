{
 "cells": [
  {
   "cell_type": "markdown",
   "metadata": {
    "colab_type": "text",
    "id": "P6xk2_jLsvFF"
   },
   "source": [
    "# [作業目標]\n",
    "\n",
    "1. 請比較對一個 100 x 100 * 100 的陣列，使用不同方法對每一個元素 +1 的時間比較。\n",
    "\n",
    "2. 如何從一個陣列中，找出出現頻率最高的數值與位置？\n",
    "\n",
    "3. 如何利用 list(...) 實現 a.tolist() 的效果？試著用程式實作。\n"
   ]
  },
  {
   "cell_type": "markdown",
   "metadata": {
    "colab_type": "text",
    "id": "uXGll28asvFS"
   },
   "source": [
    "# 作業 "
   ]
  },
  {
   "cell_type": "markdown",
   "metadata": {},
   "source": [
    "### 1. 請比較對一個 1000 x 100 x 100 的陣列，使用不同方法對每一個元素 +1 的時間比較。\n",
    "\n",
    "\n"
   ]
  },
  {
   "cell_type": "code",
   "execution_count": 1,
   "metadata": {},
   "outputs": [],
   "source": [
    "# 記得先 Import 正確的套件\n",
    "import numpy as np"
   ]
  },
  {
   "cell_type": "code",
   "execution_count": 46,
   "metadata": {
    "colab": {},
    "colab_type": "code",
    "id": "5QrYoyNWsvFS"
   },
   "outputs": [],
   "source": [
    "Z = np.random.randint(0, 10, 1000000).reshape(100, 100, 100)"
   ]
  },
  {
   "cell_type": "code",
   "execution_count": 49,
   "metadata": {
    "scrolled": true
   },
   "outputs": [
    {
     "data": {
      "text/plain": [
       "array([[[5, 7, 4, ..., 8, 5, 4],\n",
       "        [2, 0, 9, ..., 7, 2, 4],\n",
       "        [3, 1, 4, ..., 9, 9, 6],\n",
       "        ...,\n",
       "        [7, 2, 7, ..., 2, 9, 7],\n",
       "        [9, 9, 1, ..., 3, 5, 0],\n",
       "        [5, 3, 7, ..., 7, 2, 0]],\n",
       "\n",
       "       [[3, 2, 5, ..., 4, 1, 9],\n",
       "        [6, 8, 9, ..., 4, 0, 4],\n",
       "        [0, 7, 0, ..., 0, 5, 3],\n",
       "        ...,\n",
       "        [7, 4, 0, ..., 3, 4, 7],\n",
       "        [1, 2, 0, ..., 0, 0, 1],\n",
       "        [1, 5, 4, ..., 5, 3, 8]],\n",
       "\n",
       "       [[9, 3, 1, ..., 5, 3, 2],\n",
       "        [1, 6, 1, ..., 0, 7, 9],\n",
       "        [4, 4, 6, ..., 1, 9, 0],\n",
       "        ...,\n",
       "        [7, 4, 0, ..., 5, 3, 9],\n",
       "        [8, 7, 8, ..., 5, 2, 3],\n",
       "        [0, 1, 1, ..., 5, 2, 9]],\n",
       "\n",
       "       ...,\n",
       "\n",
       "       [[8, 4, 8, ..., 5, 9, 2],\n",
       "        [8, 4, 0, ..., 6, 1, 7],\n",
       "        [0, 2, 3, ..., 1, 5, 4],\n",
       "        ...,\n",
       "        [7, 4, 2, ..., 6, 4, 1],\n",
       "        [7, 5, 4, ..., 8, 9, 4],\n",
       "        [9, 5, 1, ..., 9, 5, 5]],\n",
       "\n",
       "       [[0, 1, 5, ..., 4, 2, 0],\n",
       "        [5, 5, 5, ..., 4, 8, 2],\n",
       "        [4, 7, 1, ..., 4, 4, 9],\n",
       "        ...,\n",
       "        [0, 2, 3, ..., 6, 0, 0],\n",
       "        [1, 2, 6, ..., 5, 1, 9],\n",
       "        [7, 4, 8, ..., 5, 1, 9]],\n",
       "\n",
       "       [[5, 2, 9, ..., 3, 3, 5],\n",
       "        [3, 9, 6, ..., 8, 6, 5],\n",
       "        [9, 3, 1, ..., 3, 1, 8],\n",
       "        ...,\n",
       "        [9, 1, 0, ..., 9, 7, 2],\n",
       "        [4, 3, 6, ..., 7, 3, 1],\n",
       "        [1, 4, 5, ..., 5, 7, 0]]])"
      ]
     },
     "execution_count": 49,
     "metadata": {},
     "output_type": "execute_result"
    }
   ],
   "source": [
    "Z"
   ]
  },
  {
   "cell_type": "code",
   "execution_count": 48,
   "metadata": {},
   "outputs": [
    {
     "name": "stdout",
     "output_type": "stream",
     "text": [
      "33.8 ns ± 13.8 ns per loop (mean ± std. dev. of 7 runs, 10 loops each)\n"
     ]
    },
    {
     "data": {
      "text/plain": [
       "array([[[ 6,  8,  5, ...,  9,  6,  5],\n",
       "        [ 3,  1, 10, ...,  8,  3,  5],\n",
       "        [ 4,  2,  5, ..., 10, 10,  7],\n",
       "        ...,\n",
       "        [ 8,  3,  8, ...,  3, 10,  8],\n",
       "        [10, 10,  2, ...,  4,  6,  1],\n",
       "        [ 6,  4,  8, ...,  8,  3,  1]],\n",
       "\n",
       "       [[ 4,  3,  6, ...,  5,  2, 10],\n",
       "        [ 7,  9, 10, ...,  5,  1,  5],\n",
       "        [ 1,  8,  1, ...,  1,  6,  4],\n",
       "        ...,\n",
       "        [ 8,  5,  1, ...,  4,  5,  8],\n",
       "        [ 2,  3,  1, ...,  1,  1,  2],\n",
       "        [ 2,  6,  5, ...,  6,  4,  9]],\n",
       "\n",
       "       [[10,  4,  2, ...,  6,  4,  3],\n",
       "        [ 2,  7,  2, ...,  1,  8, 10],\n",
       "        [ 5,  5,  7, ...,  2, 10,  1],\n",
       "        ...,\n",
       "        [ 8,  5,  1, ...,  6,  4, 10],\n",
       "        [ 9,  8,  9, ...,  6,  3,  4],\n",
       "        [ 1,  2,  2, ...,  6,  3, 10]],\n",
       "\n",
       "       ...,\n",
       "\n",
       "       [[ 9,  5,  9, ...,  6, 10,  3],\n",
       "        [ 9,  5,  1, ...,  7,  2,  8],\n",
       "        [ 1,  3,  4, ...,  2,  6,  5],\n",
       "        ...,\n",
       "        [ 8,  5,  3, ...,  7,  5,  2],\n",
       "        [ 8,  6,  5, ...,  9, 10,  5],\n",
       "        [10,  6,  2, ..., 10,  6,  6]],\n",
       "\n",
       "       [[ 1,  2,  6, ...,  5,  3,  1],\n",
       "        [ 6,  6,  6, ...,  5,  9,  3],\n",
       "        [ 5,  8,  2, ...,  5,  5, 10],\n",
       "        ...,\n",
       "        [ 1,  3,  4, ...,  7,  1,  1],\n",
       "        [ 2,  3,  7, ...,  6,  2, 10],\n",
       "        [ 8,  5,  9, ...,  6,  2, 10]],\n",
       "\n",
       "       [[ 6,  3, 10, ...,  4,  4,  6],\n",
       "        [ 4, 10,  7, ...,  9,  7,  6],\n",
       "        [10,  4,  2, ...,  4,  2,  9],\n",
       "        ...,\n",
       "        [10,  2,  1, ..., 10,  8,  3],\n",
       "        [ 5,  4,  7, ...,  8,  4,  2],\n",
       "        [ 2,  5,  6, ...,  6,  8,  1]]])"
      ]
     },
     "execution_count": 48,
     "metadata": {},
     "output_type": "execute_result"
    }
   ],
   "source": [
    "%timeit -n 10 a = 2\n",
    "z_list =[]\n",
    "for i in np.nditer(Z):\n",
    "    z_list.append(i+1)\n",
    "    \n",
    "np.array(z_list).reshape(100,100,100)"
   ]
  },
  {
   "cell_type": "code",
   "execution_count": 44,
   "metadata": {},
   "outputs": [
    {
     "name": "stdout",
     "output_type": "stream",
     "text": [
      "33.8 ns ± 13.8 ns per loop (mean ± std. dev. of 7 runs, 10 loops each)\n"
     ]
    }
   ],
   "source": [
    "%timeit -n 10 a = 2\n",
    "Z +=1"
   ]
  },
  {
   "cell_type": "code",
   "execution_count": null,
   "metadata": {},
   "outputs": [],
   "source": [
    "%timeit -n 10 a = 2\n",
    "\n",
    "'''\n",
    "Your Code\n",
    "'''"
   ]
  },
  {
   "cell_type": "markdown",
   "metadata": {},
   "source": [
    "### 2. 如何從一個陣列中，找出出現頻率最高的數值與位置？\n"
   ]
  },
  {
   "cell_type": "code",
   "execution_count": 98,
   "metadata": {
    "colab": {},
    "colab_type": "code",
    "id": "e1gVI0tvsvFY"
   },
   "outputs": [
    {
     "name": "stdout",
     "output_type": "stream",
     "text": [
      "[1 3 9 6 1 5 8 7 3 8 0 6 6 4 0 0 3 6 8 7 7 0 2 5 7 6 7 5 1 1 1 0 5 3 8 9 6\n",
      " 2 0 7 9 7 8 5 8 5 7 4 6 4]\n"
     ]
    }
   ],
   "source": [
    "\n",
    "Z = np.random.randint(0,10,50)\n",
    "print(Z)\n"
   ]
  },
  {
   "cell_type": "code",
   "execution_count": 99,
   "metadata": {},
   "outputs": [
    {
     "name": "stdout",
     "output_type": "stream",
     "text": [
      "7\n"
     ]
    }
   ],
   "source": [
    "\n",
    "counter_list=[]\n",
    "\n",
    "for i in range(10):\n",
    "    counter = 0\n",
    "    for j in Z:\n",
    "        if j==i:\n",
    "            counter+=1\n",
    "    counter_list.append(counter)\n",
    "    \n",
    "print(counter_list.index (max(counter_list)))"
   ]
  },
  {
   "cell_type": "code",
   "execution_count": 101,
   "metadata": {},
   "outputs": [
    {
     "name": "stdout",
     "output_type": "stream",
     "text": [
      "[7, 7, 7, 7, 7, 7, 7, 7]\n"
     ]
    }
   ],
   "source": [
    "index_list=[]\n",
    "for i in Z.tolist():\n",
    "    if i == counter_list.index (max(counter_list)):\n",
    "        index_list.append(Z.tolist().index(i))\n",
    "        \n",
    "print(index_list)\n"
   ]
  },
  {
   "cell_type": "code",
   "execution_count": 105,
   "metadata": {},
   "outputs": [
    {
     "name": "stdout",
     "output_type": "stream",
     "text": [
      "7\n"
     ]
    }
   ],
   "source": [
    "# 答案\n",
    "ans = np.bincount(Z).argmax()\n",
    "print(ans)"
   ]
  },
  {
   "cell_type": "code",
   "execution_count": 107,
   "metadata": {},
   "outputs": [
    {
     "data": {
      "text/plain": [
       "array([ 7, 19, 20, 24, 26, 39, 41, 46], dtype=int64)"
      ]
     },
     "execution_count": 107,
     "metadata": {},
     "output_type": "execute_result"
    }
   ],
   "source": [
    "np.where(Z==ans)[0]"
   ]
  },
  {
   "cell_type": "markdown",
   "metadata": {},
   "source": [
    "### 3. 如何利用 list(...) 實現 a.tolist() 的效果？試著用程式實作。\n"
   ]
  },
  {
   "cell_type": "code",
   "execution_count": 68,
   "metadata": {},
   "outputs": [
    {
     "name": "stdout",
     "output_type": "stream",
     "text": [
      "[9, 8, 2, 2, 8, 1]\n",
      "[9, 8, 2, 2, 8, 1]\n",
      "[[3, 0, 6, 6], [9, 0, 0, 8], [1, 8, 1, 3]]\n",
      "[array([3, 0, 6, 6]), array([9, 0, 0, 8]), array([1, 8, 1, 3])]\n",
      "[[[3, 2], [1, 9], [1, 2]], [[0, 1], [8, 2], [8, 1]]]\n",
      "[array([[3, 2],\n",
      "       [1, 9],\n",
      "       [1, 2]]), array([[0, 1],\n",
      "       [8, 2],\n",
      "       [8, 1]])]\n"
     ]
    }
   ],
   "source": [
    "a = np.random.randint(10, size=6) \n",
    "\n",
    "print(a.tolist())\n",
    "print(list(a))\n",
    "\n",
    "\n",
    "b = np.random.randint(10, size=(3,4)) \n",
    "\n",
    "print(b.tolist())\n",
    "print(list(b))\n",
    "\n",
    "\n",
    "c = np.random.randint(10, size=(2,3,2)) \n",
    "\n",
    "print(c.tolist())\n",
    "print(list(c))\n"
   ]
  },
  {
   "cell_type": "code",
   "execution_count": 89,
   "metadata": {},
   "outputs": [
    {
     "data": {
      "text/plain": [
       "[[3, 0, 6, 6], [9, 0, 0, 8], [1, 8, 1, 3]]"
      ]
     },
     "execution_count": 89,
     "metadata": {},
     "output_type": "execute_result"
    }
   ],
   "source": [
    "def to_list(n):\n",
    "    if type(n) != np.ndarray:\n",
    "        return n\n",
    "    \n",
    "    a_list=[]\n",
    "    \n",
    "    for row in n:\n",
    "        a_list.append(to_list(row))\n",
    "    return list(a_list)\n",
    "\n",
    "to_list(b)\n",
    "\n",
    "\n",
    "\n"
   ]
  },
  {
   "cell_type": "code",
   "execution_count": null,
   "metadata": {},
   "outputs": [],
   "source": []
  }
 ],
 "metadata": {
  "colab": {
   "name": "Day_023_HW.ipynb",
   "provenance": []
  },
  "kernelspec": {
   "display_name": "Python 3",
   "language": "python",
   "name": "python3"
  },
  "language_info": {
   "codemirror_mode": {
    "name": "ipython",
    "version": 3
   },
   "file_extension": ".py",
   "mimetype": "text/x-python",
   "name": "python",
   "nbconvert_exporter": "python",
   "pygments_lexer": "ipython3",
   "version": "3.7.9"
  }
 },
 "nbformat": 4,
 "nbformat_minor": 1
}
