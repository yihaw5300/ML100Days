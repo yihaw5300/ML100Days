{
 "cells": [
  {
   "cell_type": "markdown",
   "metadata": {
    "id": "H-z4L8J371GO"
   },
   "source": [
    "## 作業:\n",
    "今天學到不同統計量之間特性，  \n",
    "試著分析男生女生身高資料，  \n",
    "試著回答下面的問題:  \n",
    "Q1:試著用今天所教的內容，如何描述這兩組資料的樣態?    \n",
    "Q2: 請問男生和女生在平均身高上誰比較高?   \n",
    "Q3:請問第二題的答案和日常生活中觀察的一致嗎? 如果不一致，你覺得原因可能為何?    \n",
    "上述問題透過  python 語法進行運算，\n",
    "並將上述答案填寫在 (google 表單)[https://docs.google.com/forms/d/e/1FAIpQLSdDzwpeJl8YLPwZaW8pBZvtuXY9kIbbZLqxcXyzFaoraV5JEA/viewform ]\n",
    "![](作業資料圖檔.PNG)"
   ]
  },
  {
   "cell_type": "code",
   "execution_count": 1,
   "metadata": {
    "id": "yz28_IgkYdBW"
   },
   "outputs": [],
   "source": [
    "# library\n",
    "import matplotlib.pyplot as plt\n",
    "import numpy as np\n",
    "import pandas as pd\n",
    "from scipy import stats\n",
    "import math\n",
    "import statistics\n",
    "import seaborn as sns\n"
   ]
  },
  {
   "cell_type": "code",
   "execution_count": 2,
   "metadata": {
    "id": "3NtzuWtt71GU",
    "outputId": "be21c4eb-a6c2-4674-aadd-d378bafc0428"
   },
   "outputs": [],
   "source": [
    "## 輸入資料\n",
    "boys = [164, 175, 183, 173, \n",
    "        176, 159, 165, 165, \n",
    "        169, 151, 156, 163, \n",
    "        169, 144, 170, 177, \n",
    "        165, 160, 164, 171]\n",
    "\n",
    "girls = [169, 170, 162, 154,\n",
    "        183, 173, 169, 167,\n",
    "        170, 185, 162, 175,\n",
    "        168, 151, 181, 170,\n",
    "        182, 156, 159, 160]\n",
    "df= "
   ]
  },
  {
   "cell_type": "code",
   "execution_count": 14,
   "metadata": {
    "id": "uDM9AzrY71GW",
    "outputId": "f4e7ede3-fda9-4858-f122-af7c3b3f3ad4"
   },
   "outputs": [
    {
     "name": "stdout",
     "output_type": "stream",
     "text": [
      "平均數\n",
      "boys:  165.95\n",
      "girls:  168.3\n",
      "眾數\n",
      "boys:  165\n",
      "girls:  170\n",
      "中位數\n",
      "boys:  165.0\n",
      "girls:  169.0\n",
      "變異數\n",
      "boys:  84.8921052631579\n",
      "girls:  95.37894736842105\n",
      "全距\n",
      "boys:  39\n",
      "girls:  34\n",
      "偏度\n",
      "boys:  -0.4713212731737694\n",
      "girls:  0.059853211293650746\n",
      "峰度\n",
      "boys:  0.19395882957876243\n",
      "girls:  -0.8203607083948947\n"
     ]
    }
   ],
   "source": [
    "#Q1:試著用今天所教的內容，如何描述這兩組資料的樣態?\n",
    "#暗示:  分別計算男生和女生的統計量\n",
    "\n",
    "# 集中趨勢 (平均數 眾數 中位數)\n",
    "# 離散程度 (標準差 變異數)  全距 百分位數\n",
    "# 分佈型態 偏度 峰度\n",
    "\n",
    "print('平均數')\n",
    "print(\"boys: \",np.mean(boys))\n",
    "print(\"girls: \",statistics.mean(girls))\n",
    "\n",
    "print('眾數')\n",
    "print(\"boys: \", stats.mode(boys)[0][0])\n",
    "print(\"girls: \", stats.mode(girls)[0][0])\n",
    "\n",
    "print('中位數')\n",
    "print(\"boys: \",np.median(boys))\n",
    "print(\"girls: \",statistics.median(girls))\n",
    "\n",
    "print('變異數')\n",
    "print(\"boys: \", np.var(boys, ddof=1))\n",
    "print(\"girls: \",statistics.variance(girls))\n",
    "\n",
    "\n",
    "print('全距')\n",
    "def RangeV(x):\n",
    "    return max(x)-min(x)\n",
    "print(\"boys: \", RangeV(boys))\n",
    "print(\"girls: \",RangeV(girls))\n",
    "\n",
    "print('偏度')\n",
    "print(\"boys: \", stats.skew(boys))\n",
    "print(\"girls: \",stats.skew(girls))\n",
    "\n",
    "print('峰度')\n",
    "print(\"boys: \", stats.kurtosis(boys))\n",
    "print(\"girls: \", stats.kurtosis(girls))"
   ]
  },
  {
   "cell_type": "code",
   "execution_count": 3,
   "metadata": {
    "id": "xH_GNsC271GW",
    "outputId": "f4b4c46a-0d8b-421c-9c70-0ebf2aab0e31"
   },
   "outputs": [
    {
     "data": {
      "text/plain": [
       "False"
      ]
     },
     "execution_count": 3,
     "metadata": {},
     "output_type": "execute_result"
    }
   ],
   "source": [
    "#Q2: 請問男生和女生在平均身高上誰比較高?  # 女生\n",
    "\n",
    "np.mean(boys)>np.mean(girls)\n",
    "\n"
   ]
  },
  {
   "cell_type": "code",
   "execution_count": null,
   "metadata": {
    "id": "xAzZU0Dv71GX",
    "outputId": "e2017c09-70fc-41ab-99c0-9d41fe21629d"
   },
   "outputs": [
    {
     "data": {
      "text/plain": [
       "'\\n你的答案\\n'"
      ]
     },
     "execution_count": 5,
     "metadata": {
      "tags": []
     },
     "output_type": "execute_result"
    }
   ],
   "source": [
    "#Q3:請問第二題的答案和日常生活中觀察的一致嗎? 如果不一致，你覺得原因可能為何? \n",
    "\n",
    "# 不一致，因為是抽樣調查，樣本跟母體數可能差異太大"
   ]
  }
 ],
 "metadata": {
  "colab": {
   "collapsed_sections": [],
   "name": "作業.ipynb",
   "provenance": []
  },
  "kernelspec": {
   "display_name": "Python 3",
   "language": "python",
   "name": "python3"
  },
  "language_info": {
   "codemirror_mode": {
    "name": "ipython",
    "version": 3
   },
   "file_extension": ".py",
   "mimetype": "text/x-python",
   "name": "python",
   "nbconvert_exporter": "python",
   "pygments_lexer": "ipython3",
   "version": "3.7.9"
  }
 },
 "nbformat": 4,
 "nbformat_minor": 1
}
