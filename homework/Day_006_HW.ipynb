{
 "cells": [
  {
   "cell_type": "markdown",
   "metadata": {
    "id": "P6xk2_jLsvFF"
   },
   "source": [
    "# [作業目標]\n",
    "\n",
    "1. [簡答題] 請問下列這三種方法有什麼不同？\n",
    "\n",
    "```\n",
    "print(a.sum()) \n",
    "print(np.sum(a))\n",
    "print(sum(a)) \n",
    "```\n",
    "\n",
    "2. 請對一個 5x5 的隨機矩陣作正規化的操作。\n",
    "\n",
    "3. 請建立一個長度等於 10 的正整數向量，並且將其中的最大值改成 -1。\n"
   ]
  },
  {
   "cell_type": "markdown",
   "metadata": {
    "id": "uXGll28asvFS"
   },
   "source": [
    "# 作業 "
   ]
  },
  {
   "cell_type": "markdown",
   "metadata": {
    "id": "lbz8VjL6jxyL"
   },
   "source": [
    "### 1. [簡答題] 請問下列這三種方法有什麼不同？\n",
    "\n",
    "```\n",
    "print(a.sum()) \n",
    "print(np.sum(a))\n",
    "print(sum(a)) \n",
    "```\n",
    "\n"
   ]
  },
  {
   "cell_type": "code",
   "execution_count": null,
   "metadata": {
    "id": "5QrYoyNWsvFS",
    "outputId": "e9e14d36-38ce-4ce5-edf2-3c7b129db580"
   },
   "outputs": [
    {
     "data": {
      "text/plain": [
       "'\\nYour Code\\n'"
      ]
     },
     "execution_count": 3,
     "metadata": {
      "tags": []
     },
     "output_type": "execute_result"
    }
   ],
   "source": [
    "#都可以達到相同結果\n",
    "#1. a這個ndarray物件中使用的 sum()\"這個方法\"\n",
    "#2. 用numpy這個module 中的 sum()函式去計算 a這個物件\n",
    "#3. python 本來內件的sum()函式"
   ]
  },
  {
   "cell_type": "markdown",
   "metadata": {
    "id": "vVrjBXabjxyS"
   },
   "source": [
    "### 2. 請對一個 5x5 的隨機矩陣作正規化的操作。\n"
   ]
  },
  {
   "cell_type": "code",
   "execution_count": 9,
   "metadata": {
    "id": "ffDRVHs9jxyS"
   },
   "outputs": [
    {
     "name": "stdout",
     "output_type": "stream",
     "text": [
      "[[0.39433175 0.47887876 0.15006555 0.72890555 0.82008311]\n",
      " [0.60626563 0.88552871 0.11455331 0.41860095 0.25014691]\n",
      " [0.3286732  0.78748094 0.52329093 0.51887625 0.7315908 ]\n",
      " [0.18096999 0.8405868  0.15468211 0.58126059 0.84035213]\n",
      " [0.31166108 0.37928171 0.75313429 0.68203998 0.65998271]]\n",
      "[[-0.54196579 -0.19088877 -1.5562683   0.84733428  1.22594428]\n",
      " [ 0.33807846  1.49770369 -1.70373102 -0.4411892  -1.14068573]\n",
      " [-0.81460945  1.0905655  -0.00646959 -0.02480131  0.85848461]\n",
      " [-1.42793923  1.31108475 -1.5370983   0.23424634  1.31011032]\n",
      " [-0.88525138 -0.6044603   0.94794285  0.65272746  0.56113583]]\n"
     ]
    }
   ],
   "source": [
    "# 記得先 Import 正確的套件\n",
    "\n",
    "import numpy as np\n",
    "A =np.random.random((5,5))\n",
    "print(A)\n",
    "\n",
    "# Z-score normalization (Standardization)\n",
    "\n",
    "Z = (A- np.mean(A)) / np.std(A)\n",
    "print(Z)\n",
    "# (Min-max normalization)"
   ]
  },
  {
   "cell_type": "code",
   "execution_count": 12,
   "metadata": {},
   "outputs": [
    {
     "name": "stdout",
     "output_type": "stream",
     "text": [
      "[[-0.54196579 -0.19088877 -1.5562683   0.84733428  1.22594428]\n",
      " [ 0.33807846  1.49770369 -1.70373102 -0.4411892  -1.14068573]\n",
      " [-0.81460945  1.0905655  -0.00646959 -0.02480131  0.85848461]\n",
      " [-1.42793923  1.31108475 -1.5370983   0.23424634  1.31011032]\n",
      " [-0.88525138 -0.6044603   0.94794285  0.65272746  0.56113583]]\n",
      "[[0.36288893 0.47255134 0.04606145 0.79685064 0.91511324]\n",
      " [0.63777952 1.         0.         0.39436751 0.1758728 ]\n",
      " [0.27772597 0.87282633 0.5301565  0.52443041 0.80033356]\n",
      " [0.08614631 0.94170772 0.05204939 0.60534652 0.94140334]\n",
      " [0.25566026 0.34336815 0.82827673 0.73606326 0.70745371]]\n"
     ]
    }
   ],
   "source": [
    "def zscore(x, axis=None):\n",
    "    xmean = x.mean(axis = axis)\n",
    "    xstd = np.std(x, axis = axis)\n",
    "    zscore = (x-xmean) / xstd\n",
    "    return zscore\n",
    "\n",
    "print(zscore(A))\n",
    "\n",
    "\n",
    "def min_max(x, axis=None):\n",
    "    xmin_max =  (x- x.min())/ (x.max()-x.min())\n",
    "    return xmin_max\n",
    "print(min_max(A))\n",
    "                 "
   ]
  },
  {
   "cell_type": "code",
   "execution_count": 8,
   "metadata": {
    "id": "e1gVI0tvsvFY",
    "outputId": "43bf676f-fd04-4edf-c062-b5fe7fe1f4bf"
   },
   "outputs": [
    {
     "data": {
      "text/plain": [
       "'\\nYour Code\\n'"
      ]
     },
     "execution_count": 8,
     "metadata": {},
     "output_type": "execute_result"
    }
   ],
   "source": [
    "A = np.random.random((5, 5))\n",
    "\n",
    "'''\n",
    "Your Code\n",
    "'''"
   ]
  },
  {
   "cell_type": "markdown",
   "metadata": {
    "id": "Ptc3ZrNQjxyU"
   },
   "source": [
    "### 3. 請建立一個長度等於 10 的正整數向量，並且將其中的最大值改成 -1。\n"
   ]
  },
  {
   "cell_type": "code",
   "execution_count": null,
   "metadata": {
    "id": "Yu1kbLxojxyU",
    "outputId": "d323e754-178a-46ae-e15e-98275ae220dd"
   },
   "outputs": [
    {
     "name": "stdout",
     "output_type": "stream",
     "text": [
      "[ 0.29347583  0.59303277 -1.          0.38043546  0.63265939  0.32472618\n",
      "  0.11340241  0.68136955  0.89905432  0.74769935]\n"
     ]
    }
   ],
   "source": [
    "'''\n",
    "Your Code\n",
    "'''"
   ]
  },
  {
   "cell_type": "code",
   "execution_count": null,
   "metadata": {
    "id": "IoPlZnZgjxyV"
   },
   "outputs": [],
   "source": []
  },
  {
   "cell_type": "code",
   "execution_count": null,
   "metadata": {
    "id": "V5bMfGR_jxyV"
   },
   "outputs": [],
   "source": []
  }
 ],
 "metadata": {
  "colab": {
   "name": "06 Homework_維元.ipynb",
   "provenance": []
  },
  "kernelspec": {
   "display_name": "Python 3",
   "language": "python",
   "name": "python3"
  },
  "language_info": {
   "codemirror_mode": {
    "name": "ipython",
    "version": 3
   },
   "file_extension": ".py",
   "mimetype": "text/x-python",
   "name": "python",
   "nbconvert_exporter": "python",
   "pygments_lexer": "ipython3",
   "version": "3.7.9"
  }
 },
 "nbformat": 4,
 "nbformat_minor": 1
}
